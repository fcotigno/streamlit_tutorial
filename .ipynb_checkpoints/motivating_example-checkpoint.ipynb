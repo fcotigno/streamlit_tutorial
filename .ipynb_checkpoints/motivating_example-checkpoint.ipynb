{
 "cells": [
  {
   "cell_type": "markdown",
   "metadata": {},
   "source": [
    "# Motivating Example\n",
    "\n",
    "Jupyter Notebooks are frequently used to import, transform and visualize data. For example, the code below imports\n",
    "population estimates for US States. It subsets the dataframe to California and graphs the result."
   ]
  },
  {
   "cell_type": "code",
   "execution_count": null,
   "metadata": {
    "scrolled": true
   },
   "outputs": [
    {
     "name": "stdout",
     "output_type": "stream",
     "text": [
      "Collecting plotly\n",
      "  Downloading plotly-6.3.0-py3-none-any.whl.metadata (8.5 kB)\n",
      "Collecting narwhals>=1.15.1 (from plotly)\n",
      "  Downloading narwhals-1.42.1-py3-none-any.whl.metadata (11 kB)\n",
      "Requirement already satisfied: packaging in /Users/fcotigno112/opt/anaconda3/lib/python3.8/site-packages (from plotly) (23.2)\n",
      "Downloading plotly-6.3.0-py3-none-any.whl (9.8 MB)\n",
      "\u001b[2K   \u001b[38;2;114;156;31m━━━━━━━━━━━━━━━━━━━━━━━━━━━━━━━━━━━━━━━━\u001b[0m \u001b[32m9.8/9.8 MB\u001b[0m \u001b[31m34.8 MB/s\u001b[0m eta \u001b[36m0:00:00\u001b[0m MB/s\u001b[0m eta \u001b[36m0:00:01\u001b[0m:01\u001b[0m\n",
      "\u001b[?25hDownloading narwhals-1.42.1-py3-none-any.whl (359 kB)\n",
      "\u001b[2K   \u001b[38;2;114;156;31m━━━━━━━━━━━━━━━━━━━━━━━━━━━━━━━━━━━━━━━━\u001b[0m \u001b[32m359.9/359.9 kB\u001b[0m \u001b[31m28.5 MB/s\u001b[0m eta \u001b[36m0:00:00\u001b[0m\n",
      "\u001b[?25h\u001b[33mDEPRECATION: pyodbc 4.0.0-unsupported has a non-standard version number. pip 24.1 will enforce this behaviour change. A possible replacement is to upgrade to a newer version of pyodbc or contact the author to suggest that they release a version with a conforming version number. Discussion can be found at https://github.com/pypa/pip/issues/12063\u001b[0m\u001b[33m\n",
      "\u001b[0mInstalling collected packages: narwhals, plotly\n",
      "Successfully installed narwhals-1.42.1 plotly-6.3.0\n",
      "\n",
      "\u001b[1m[\u001b[0m\u001b[34;49mnotice\u001b[0m\u001b[1;39;49m]\u001b[0m\u001b[39;49m A new release of pip is available: \u001b[0m\u001b[31;49m24.0\u001b[0m\u001b[39;49m -> \u001b[0m\u001b[32;49m25.0.1\u001b[0m\n",
      "\u001b[1m[\u001b[0m\u001b[34;49mnotice\u001b[0m\u001b[1;39;49m]\u001b[0m\u001b[39;49m To update, run: \u001b[0m\u001b[32;49mpip install --upgrade pip\u001b[0m\n",
      "Requirement already satisfied: numexpr in /Users/fcotigno112/opt/anaconda3/lib/python3.8/site-packages (2.7.1)\n",
      "Collecting numexpr\n",
      "  Downloading numexpr-2.8.6-cp38-cp38-macosx_10_9_x86_64.whl.metadata (8.0 kB)\n",
      "Requirement already satisfied: numpy>=1.13.3 in /Users/fcotigno112/opt/anaconda3/lib/python3.8/site-packages (from numexpr) (1.23.5)\n",
      "Downloading numexpr-2.8.6-cp38-cp38-macosx_10_9_x86_64.whl (102 kB)\n",
      "\u001b[2K   \u001b[38;2;114;156;31m━━━━━━━━━━━━━━━━━━━━━━━━━━━━━━━━━━━━━━━━\u001b[0m \u001b[32m102.4/102.4 kB\u001b[0m \u001b[31m2.9 MB/s\u001b[0m eta \u001b[36m0:00:00\u001b[0m\n",
      "\u001b[?25h"
     ]
    }
   ],
   "source": [
    "!pip install plotly\n",
    "!pip install --upgrade numexpr\n",
    "\n",
    "import pandas as pd\n",
    "import plotly.express as px\n",
    "import plotly.io as pio\n",
    "\n",
    "# Allows plotly plots to render interactively locally, but as static images when viewed in github.\n",
    "# Without this the plotly images simply do not render in github.\n",
    "pio.renderers.default = \"vscode+png\"\n",
    "\n",
    "df = pd.read_csv(\"state_data.csv\")\n",
    "\n",
    "state = \"California\"\n",
    "df_state = df[df[\"State\"] == state]\n",
    "px.line(df_state, x=\"Year\", y=\"Total Population\", title=f\"Total Population of {state}\")"
   ]
  },
  {
   "cell_type": "markdown",
   "metadata": {},
   "source": [
    "## Another State\n",
    "\n",
    "We can easily copy and paste the above code and tweak is slightly to graph the population of another state:"
   ]
  },
  {
   "cell_type": "code",
   "execution_count": 2,
   "metadata": {},
   "outputs": [
    {
     "ename": "NameError",
     "evalue": "name 'df' is not defined",
     "output_type": "error",
     "traceback": [
      "\u001b[0;31m---------------------------------------------------------------------------\u001b[0m",
      "\u001b[0;31mNameError\u001b[0m                                 Traceback (most recent call last)",
      "Cell \u001b[0;32mIn[2], line 2\u001b[0m\n\u001b[1;32m      1\u001b[0m state \u001b[38;5;241m=\u001b[39m \u001b[38;5;124m\"\u001b[39m\u001b[38;5;124mNew York\u001b[39m\u001b[38;5;124m\"\u001b[39m\n\u001b[0;32m----> 2\u001b[0m df_state \u001b[38;5;241m=\u001b[39m \u001b[43mdf\u001b[49m[df[\u001b[38;5;124m\"\u001b[39m\u001b[38;5;124mState\u001b[39m\u001b[38;5;124m\"\u001b[39m] \u001b[38;5;241m==\u001b[39m state]\n\u001b[1;32m      3\u001b[0m px\u001b[38;5;241m.\u001b[39mline(df_state, x\u001b[38;5;241m=\u001b[39m\u001b[38;5;124m\"\u001b[39m\u001b[38;5;124mYear\u001b[39m\u001b[38;5;124m\"\u001b[39m, y\u001b[38;5;241m=\u001b[39m\u001b[38;5;124m\"\u001b[39m\u001b[38;5;124mTotal Population\u001b[39m\u001b[38;5;124m\"\u001b[39m, title\u001b[38;5;241m=\u001b[39m\u001b[38;5;124mf\u001b[39m\u001b[38;5;124m\"\u001b[39m\u001b[38;5;124mTotal Population of \u001b[39m\u001b[38;5;132;01m{\u001b[39;00mstate\u001b[38;5;132;01m}\u001b[39;00m\u001b[38;5;124m\"\u001b[39m)\n",
      "\u001b[0;31mNameError\u001b[0m: name 'df' is not defined"
     ]
    }
   ],
   "source": [
    "state = \"New York\"\n",
    "df_state = df[df[\"State\"] == state]\n",
    "px.line(df_state, x=\"Year\", y=\"Total Population\", title=f\"Total Population of {state}\")"
   ]
  },
  {
   "cell_type": "markdown",
   "metadata": {},
   "source": [
    "## Limitation\n",
    "\n",
    "From a technical perspective, we could repeat this process for every state in the country. But from a practical perspective, people would have trouble keeping track of that many graphs. \n",
    "\n",
    "## An Alternative: Websites\n",
    "\n",
    "One alternative is to build a website that lets users select a state. The site could render the population graph for just that state. This would allow users to see all the visualizations without being overwhelmed by too much information at once.\n",
    "\n",
    "Streamlit makes it easy to create apps like this. In fact, the code for a Streamlit app often closely resembles the code used in the original notebook. Below is code to build the app described above. As you read through it, consider: which parts mirror the notebook code you've already seen, and which parts introduce something new?\n",
    "```python\n",
    "import streamlit as st\n",
    "import pandas as pd\n",
    "import plotly.express as px\n",
    "\n",
    "df = pd.read_csv(\"state_data.csv\")\n",
    "\n",
    "# Let user select which state to graph\n",
    "state = st.selectbox(\"State:\", df[\"State\"].unique())\n",
    "\n",
    "# Create a graph of total population\n",
    "df_state = df[df[\"State\"] == state]\n",
    "fig = px.line(\n",
    "    df_state, x=\"Year\", y=\"Total Population\", title=f\"Total Population of {state}\"\n",
    ")\n",
    "st.plotly_chart(fig)\n",
    "```"
   ]
  }
 ],
 "metadata": {
  "kernelspec": {
   "display_name": "Python 3 (ipykernel)",
   "language": "python",
   "name": "python3"
  },
  "language_info": {
   "codemirror_mode": {
    "name": "ipython",
    "version": 3
   },
   "file_extension": ".py",
   "mimetype": "text/x-python",
   "name": "python",
   "nbconvert_exporter": "python",
   "pygments_lexer": "ipython3",
   "version": "3.8.3"
  }
 },
 "nbformat": 4,
 "nbformat_minor": 5
}
